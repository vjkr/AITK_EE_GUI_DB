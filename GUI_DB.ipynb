{
  "nbformat": 4,
  "nbformat_minor": 0,
  "metadata": {
    "colab": {
      "provenance": [],
      "authorship_tag": "ABX9TyPg8ZAIKetXNEACm1BP0LqE",
      "include_colab_link": true
    },
    "kernelspec": {
      "name": "python3",
      "display_name": "Python 3"
    },
    "language_info": {
      "name": "python"
    }
  },
  "cells": [
    {
      "cell_type": "markdown",
      "metadata": {
        "id": "view-in-github",
        "colab_type": "text"
      },
      "source": [
        "<a href=\"https://colab.research.google.com/github/vjkr/AITK_EE_GUI_DB/blob/main/GUI_DB.ipynb\" target=\"_parent\"><img src=\"https://colab.research.google.com/assets/colab-badge.svg\" alt=\"Open In Colab\"/></a>"
      ]
    },
    {
      "cell_type": "markdown",
      "source": [
        "# INSERT DELETE UPDATE SQL Databases"
      ],
      "metadata": {
        "id": "P2h1w9lZcQ03"
      }
    },
    {
      "cell_type": "code",
      "execution_count": null,
      "metadata": {
        "colab": {
          "base_uri": "https://localhost:8080/"
        },
        "cellView": "form",
        "id": "tfSHRGsaYA3k",
        "outputId": "2b458fe4-46c9-48ed-af92-015c501b5952"
      },
      "outputs": [
        {
          "output_type": "stream",
          "name": "stdout",
          "text": [
            "(1, 'John Doe', 'Johndoe@gmail.com')\n",
            "(2, 'John Doe', 'Johndoe@gmail.com')\n",
            "(4, 'Vijaykumar', 'VCS@example.com')\n",
            "(5, 'Kashif Kazmi', 'kk@yahoo.com')\n",
            "(6, 'Mark Zuckerberg', 'markzuck@fb.com')\n"
          ]
        }
      ],
      "source": [
        "# @title\n",
        "import sqlite3\n",
        "\n",
        "# Connect to the SQLite database (or create it if it doesn't exist)\n",
        "conn = sqlite3.connect('example.db')\n",
        "\n",
        "# Create a cursor object to execute SQL queries\n",
        "cursor = conn.cursor()\n",
        "\n",
        "# Create a table\n",
        "cursor.execute('''CREATE TABLE IF NOT EXISTS users\n",
        "             (id INTEGER PRIMARY KEY, name TEXT, email TEXT)''')\n",
        "\n",
        "# Insert data into the table\n",
        "# cursor.execute(\"INSERT INTO users (name, email) VALUES (?, ?)\", ('John Doe', 'Johndoe@gmail.com'))\n",
        "# cursor.execute(\"INSERT INTO users (name, email) VALUES (?, ?)\", ('shahrukh khan', ''))\n",
        "# cursor.execute(\"INSERT INTO users (name, email) VALUES (?, ?)\", ('Vijaykumar', 'VCS@example.com'))\n",
        "# cursor.execute(\"INSERT INTO users (name, email) VALUES (?, ?)\", ('Kashif Kazmi', 'kk@yahoo.com'))\n",
        "# cursor.execute(\"INSERT INTO users (name, email) VALUES (?, ?)\", ('', 'markzuck@fb.com'))\n",
        "# cursor.execute(\"DELETE FROM users WHERE name = ?\", ('Mark Zuckerberg',))\n",
        "cursor.execute(\"UPDATE users SET name = ? WHERE email = ?\", ('Mark Zuckerberg', 'markzuck@fb.com'))\n",
        "\n",
        "\n",
        "conn.commit()\n",
        "\n",
        "# Query the data\n",
        "cursor.execute(\"SELECT * FROM users\")\n",
        "for row in cursor.fetchall():\n",
        "    print(row)\n",
        "\n",
        "# Close the cursor and the database connection\n",
        "cursor.close()\n",
        "conn.close()\n"
      ]
    },
    {
      "cell_type": "code",
      "source": [],
      "metadata": {
        "id": "uqgSPjzrba6_"
      },
      "execution_count": null,
      "outputs": []
    },
    {
      "cell_type": "markdown",
      "source": [],
      "metadata": {
        "id": "VHRHT1zRegXS"
      }
    },
    {
      "cell_type": "markdown",
      "source": [
        "# GUI"
      ],
      "metadata": {
        "id": "7TNf9Dniehqc"
      }
    },
    {
      "cell_type": "markdown",
      "source": [
        "Run on https://codehs.com/sandbox/id/python-graphics-tkinter-IPnUun"
      ],
      "metadata": {
        "id": "ESCwGU8ffMr-"
      }
    },
    {
      "cell_type": "code",
      "source": [
        "import tkinter as tk\n",
        "from tkinter import messagebox\n",
        "\n",
        "def show_dialog():\n",
        "    messagebox.showinfo(\"Dialog Box\", \"Hello, this is a dialog box!\")\n",
        "\n",
        "root = tk.Tk()\n",
        "root.title(\"GUI Program\")\n",
        "\n",
        "# Create a label\n",
        "label = tk.Label(root, text=\"Hello, GUI!\")\n",
        "label.pack()\n",
        "\n",
        "# Create a button\n",
        "button = tk.Button(root, text=\"Click Me\", command=show_dialog)\n",
        "button.pack()\n",
        "\n",
        "# Create radio buttons\n",
        "radio_var = tk.IntVar()\n",
        "radio_button1 = tk.Radiobutton(root, text=\"Option 1\", variable=radio_var, value=1)\n",
        "radio_button2 = tk.Radiobutton(root, text=\"Option 2\", variable=radio_var, value=2)\n",
        "radio_button1.pack()\n",
        "radio_button2.pack()\n",
        "\n",
        "# Create checkboxes\n",
        "check_var1 = tk.IntVar()\n",
        "check_var2 = tk.IntVar()\n",
        "check_button1 = tk.Checkbutton(root, text=\"Check 1\", variable=check_var1)\n",
        "check_button2 = tk.Checkbutton(root, text=\"Check 2\", variable=check_var2)\n",
        "check_button1.pack()\n",
        "check_button2.pack()\n",
        "\n",
        "# Run the Tkinter event loop\n",
        "root.mainloop()\n"
      ],
      "metadata": {
        "id": "nz-7ZzuSemL-"
      },
      "execution_count": null,
      "outputs": []
    }
  ]
}